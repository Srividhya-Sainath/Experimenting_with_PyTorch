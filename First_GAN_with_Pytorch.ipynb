{
  "nbformat": 4,
  "nbformat_minor": 0,
  "metadata": {
    "colab": {
      "name": "Make_your_first_GAN_with_Pytorch.ipynb",
      "provenance": [],
      "toc_visible": true,
      "authorship_tag": "ABX9TyNhJ31Jf4u15j13eVhW0ZUG",
      "include_colab_link": true
    },
    "kernelspec": {
      "name": "python3",
      "display_name": "Python 3"
    },
    "language_info": {
      "name": "python"
    },
    "accelerator": "GPU"
  },
  "cells": [
    {
      "cell_type": "markdown",
      "metadata": {
        "id": "view-in-github",
        "colab_type": "text"
      },
      "source": [
        "<a href=\"https://colab.research.google.com/github/Srividhya-Sainath/Experimenting_with_PyTorch/blob/main/First_GAN_with_Pytorch.ipynb\" target=\"_parent\"><img src=\"https://colab.research.google.com/assets/colab-badge.svg\" alt=\"Open In Colab\"/></a>"
      ]
    },
    {
      "cell_type": "markdown",
      "source": [
        "**CHAPTER 1 - Understanding PyTorch Tensors**"
      ],
      "metadata": {
        "id": "lWtlhh3m-iHG"
      }
    },
    {
      "cell_type": "code",
      "execution_count": null,
      "metadata": {
        "id": "sHsKgFQdhWbG"
      },
      "outputs": [],
      "source": [
        "import torch"
      ]
    },
    {
      "cell_type": "markdown",
      "source": [
        "PyTorch has its own kind of variables for storing numbers. They are called PyTorch tensors."
      ],
      "metadata": {
        "id": "fSli9IvoidmW"
      }
    },
    {
      "cell_type": "code",
      "source": [
        "# simple pytorch tensor\n",
        "x = torch.tensor(3.5)\n",
        "print(x)\n",
        "# simple arithmetic with tensors\n",
        "y = x + 3\n",
        "print(y) # numpy arrays work similarly as pytorch tensors #"
      ],
      "metadata": {
        "colab": {
          "base_uri": "https://localhost:8080/"
        },
        "id": "jN1Aa-Z9icCB",
        "outputId": "668a2ce5-525f-4940-b6d4-3f6387c277cb"
      },
      "execution_count": null,
      "outputs": [
        {
          "output_type": "stream",
          "name": "stdout",
          "text": [
            "tensor(3.5000)\n",
            "tensor(6.5000)\n"
          ]
        }
      ]
    },
    {
      "cell_type": "markdown",
      "source": [
        "Automatic gradients with PyTorch makes these tensors more special. They memorise the relationship each tensor has with other tensors, which comes handy while calculating gradients."
      ],
      "metadata": {
        "id": "Uj0EeL7ikEMU"
      }
    },
    {
      "cell_type": "code",
      "source": [
        "x = torch.tensor(3.5, requires_grad=True)\n",
        "print(x)"
      ],
      "metadata": {
        "colab": {
          "base_uri": "https://localhost:8080/"
        },
        "id": "zK_Z97ohj9zg",
        "outputId": "d4ffdc8a-a018-43e2-a321-f5e31ef7023c"
      },
      "execution_count": null,
      "outputs": [
        {
          "output_type": "stream",
          "name": "stdout",
          "text": [
            "tensor(3.5000, requires_grad=True)\n"
          ]
        }
      ]
    },
    {
      "cell_type": "code",
      "source": [
        "# y id defined as a function of x \n",
        "y = (x-1)*(x-2)*(x-3)\n",
        "print(y)"
      ],
      "metadata": {
        "colab": {
          "base_uri": "https://localhost:8080/"
        },
        "id": "Matx8q_Ok19W",
        "outputId": "c6f5cb93-e04c-4d1d-c28f-45ed4bc3d964"
      },
      "execution_count": null,
      "outputs": [
        {
          "output_type": "stream",
          "name": "stdout",
          "text": [
            "tensor(1.8750, grad_fn=<MulBackward0>)\n"
          ]
        }
      ]
    },
    {
      "cell_type": "code",
      "source": [
        "# work out gradient\n",
        "y.backward()"
      ],
      "metadata": {
        "id": "3CGr95R4l4-L"
      },
      "execution_count": null,
      "outputs": []
    },
    {
      "cell_type": "code",
      "source": [
        "# what is the gradient at x = 3.5\n",
        "x.grad"
      ],
      "metadata": {
        "colab": {
          "base_uri": "https://localhost:8080/"
        },
        "id": "rE5meyHFmPh9",
        "outputId": "2e658af8-87b9-4d9e-894e-d865af9002eb"
      },
      "execution_count": null,
      "outputs": [
        {
          "output_type": "execute_result",
          "data": {
            "text/plain": [
              "tensor(5.7500)"
            ]
          },
          "metadata": {},
          "execution_count": 35
        }
      ]
    },
    {
      "cell_type": "code",
      "source": [
        "# set up simple graph relating x,y and z\n",
        "x = torch.tensor(3.5, requires_grad=True)\n",
        "y = x*x\n",
        "z = 2*y + 3"
      ],
      "metadata": {
        "id": "iGjAqdz9mlaP"
      },
      "execution_count": null,
      "outputs": []
    },
    {
      "cell_type": "code",
      "source": [
        "# work out gradient\n",
        "z.backward()"
      ],
      "metadata": {
        "id": "LiQiccaU95I-"
      },
      "execution_count": null,
      "outputs": []
    },
    {
      "cell_type": "code",
      "source": [
        "# what is the gradient at x = 3.5\n",
        "x.grad"
      ],
      "metadata": {
        "colab": {
          "base_uri": "https://localhost:8080/"
        },
        "id": "a5xs9TrY-Bjw",
        "outputId": "a5dec81e-25f6-42cf-8b18-c97eba946d63"
      },
      "execution_count": null,
      "outputs": [
        {
          "output_type": "execute_result",
          "data": {
            "text/plain": [
              "tensor(14.)"
            ]
          },
          "metadata": {},
          "execution_count": 38
        }
      ]
    },
    {
      "cell_type": "markdown",
      "source": [
        "**CHAPTER 2 - First PyTorch Neural Network** "
      ],
      "metadata": {
        "id": "2ykA6Pnh-vE7"
      }
    },
    {
      "cell_type": "code",
      "source": [
        "# mount Drive to access data files\n",
        "from google.colab import drive\n",
        "drive.mount('./mount')"
      ],
      "metadata": {
        "id": "mco6tDXp-710",
        "colab": {
          "base_uri": "https://localhost:8080/"
        },
        "outputId": "402280ed-06c1-444c-8912-0dadb40786b8"
      },
      "execution_count": null,
      "outputs": [
        {
          "output_type": "stream",
          "name": "stdout",
          "text": [
            "Drive already mounted at ./mount; to attempt to forcibly remount, call drive.mount(\"./mount\", force_remount=True).\n"
          ]
        }
      ]
    },
    {
      "cell_type": "code",
      "source": [
        "# import pandas to read csv files\n",
        "import pandas"
      ],
      "metadata": {
        "id": "Ua1diAOoCWBk"
      },
      "execution_count": null,
      "outputs": []
    },
    {
      "cell_type": "code",
      "source": [
        "df = pandas.read_csv('mount/My Drive/mnist_data/mnist_train.csv', header=None)"
      ],
      "metadata": {
        "id": "ljMUo0W4CZbk"
      },
      "execution_count": null,
      "outputs": []
    },
    {
      "cell_type": "code",
      "source": [
        "df.head()"
      ],
      "metadata": {
        "colab": {
          "base_uri": "https://localhost:8080/",
          "height": 235
        },
        "id": "E4yYclWDCydQ",
        "outputId": "721ec494-4006-428f-b98c-b28644d10332"
      },
      "execution_count": null,
      "outputs": [
        {
          "output_type": "execute_result",
          "data": {
            "text/plain": [
              "   0    1    2    3    4    5    6    7    8    9    ...  775  776  777  778  \\\n",
              "0    5    0    0    0    0    0    0    0    0    0  ...    0    0    0    0   \n",
              "1    0    0    0    0    0    0    0    0    0    0  ...    0    0    0    0   \n",
              "2    4    0    0    0    0    0    0    0    0    0  ...    0    0    0    0   \n",
              "3    1    0    0    0    0    0    0    0    0    0  ...    0    0    0    0   \n",
              "4    9    0    0    0    0    0    0    0    0    0  ...    0    0    0    0   \n",
              "\n",
              "   779  780  781  782  783  784  \n",
              "0    0    0    0    0    0    0  \n",
              "1    0    0    0    0    0    0  \n",
              "2    0    0    0    0    0    0  \n",
              "3    0    0    0    0    0    0  \n",
              "4    0    0    0    0    0    0  \n",
              "\n",
              "[5 rows x 785 columns]"
            ],
            "text/html": [
              "\n",
              "  <div id=\"df-15b96031-4ace-4d92-9362-1cd79a281b91\">\n",
              "    <div class=\"colab-df-container\">\n",
              "      <div>\n",
              "<style scoped>\n",
              "    .dataframe tbody tr th:only-of-type {\n",
              "        vertical-align: middle;\n",
              "    }\n",
              "\n",
              "    .dataframe tbody tr th {\n",
              "        vertical-align: top;\n",
              "    }\n",
              "\n",
              "    .dataframe thead th {\n",
              "        text-align: right;\n",
              "    }\n",
              "</style>\n",
              "<table border=\"1\" class=\"dataframe\">\n",
              "  <thead>\n",
              "    <tr style=\"text-align: right;\">\n",
              "      <th></th>\n",
              "      <th>0</th>\n",
              "      <th>1</th>\n",
              "      <th>2</th>\n",
              "      <th>3</th>\n",
              "      <th>4</th>\n",
              "      <th>5</th>\n",
              "      <th>6</th>\n",
              "      <th>7</th>\n",
              "      <th>8</th>\n",
              "      <th>9</th>\n",
              "      <th>...</th>\n",
              "      <th>775</th>\n",
              "      <th>776</th>\n",
              "      <th>777</th>\n",
              "      <th>778</th>\n",
              "      <th>779</th>\n",
              "      <th>780</th>\n",
              "      <th>781</th>\n",
              "      <th>782</th>\n",
              "      <th>783</th>\n",
              "      <th>784</th>\n",
              "    </tr>\n",
              "  </thead>\n",
              "  <tbody>\n",
              "    <tr>\n",
              "      <th>0</th>\n",
              "      <td>5</td>\n",
              "      <td>0</td>\n",
              "      <td>0</td>\n",
              "      <td>0</td>\n",
              "      <td>0</td>\n",
              "      <td>0</td>\n",
              "      <td>0</td>\n",
              "      <td>0</td>\n",
              "      <td>0</td>\n",
              "      <td>0</td>\n",
              "      <td>...</td>\n",
              "      <td>0</td>\n",
              "      <td>0</td>\n",
              "      <td>0</td>\n",
              "      <td>0</td>\n",
              "      <td>0</td>\n",
              "      <td>0</td>\n",
              "      <td>0</td>\n",
              "      <td>0</td>\n",
              "      <td>0</td>\n",
              "      <td>0</td>\n",
              "    </tr>\n",
              "    <tr>\n",
              "      <th>1</th>\n",
              "      <td>0</td>\n",
              "      <td>0</td>\n",
              "      <td>0</td>\n",
              "      <td>0</td>\n",
              "      <td>0</td>\n",
              "      <td>0</td>\n",
              "      <td>0</td>\n",
              "      <td>0</td>\n",
              "      <td>0</td>\n",
              "      <td>0</td>\n",
              "      <td>...</td>\n",
              "      <td>0</td>\n",
              "      <td>0</td>\n",
              "      <td>0</td>\n",
              "      <td>0</td>\n",
              "      <td>0</td>\n",
              "      <td>0</td>\n",
              "      <td>0</td>\n",
              "      <td>0</td>\n",
              "      <td>0</td>\n",
              "      <td>0</td>\n",
              "    </tr>\n",
              "    <tr>\n",
              "      <th>2</th>\n",
              "      <td>4</td>\n",
              "      <td>0</td>\n",
              "      <td>0</td>\n",
              "      <td>0</td>\n",
              "      <td>0</td>\n",
              "      <td>0</td>\n",
              "      <td>0</td>\n",
              "      <td>0</td>\n",
              "      <td>0</td>\n",
              "      <td>0</td>\n",
              "      <td>...</td>\n",
              "      <td>0</td>\n",
              "      <td>0</td>\n",
              "      <td>0</td>\n",
              "      <td>0</td>\n",
              "      <td>0</td>\n",
              "      <td>0</td>\n",
              "      <td>0</td>\n",
              "      <td>0</td>\n",
              "      <td>0</td>\n",
              "      <td>0</td>\n",
              "    </tr>\n",
              "    <tr>\n",
              "      <th>3</th>\n",
              "      <td>1</td>\n",
              "      <td>0</td>\n",
              "      <td>0</td>\n",
              "      <td>0</td>\n",
              "      <td>0</td>\n",
              "      <td>0</td>\n",
              "      <td>0</td>\n",
              "      <td>0</td>\n",
              "      <td>0</td>\n",
              "      <td>0</td>\n",
              "      <td>...</td>\n",
              "      <td>0</td>\n",
              "      <td>0</td>\n",
              "      <td>0</td>\n",
              "      <td>0</td>\n",
              "      <td>0</td>\n",
              "      <td>0</td>\n",
              "      <td>0</td>\n",
              "      <td>0</td>\n",
              "      <td>0</td>\n",
              "      <td>0</td>\n",
              "    </tr>\n",
              "    <tr>\n",
              "      <th>4</th>\n",
              "      <td>9</td>\n",
              "      <td>0</td>\n",
              "      <td>0</td>\n",
              "      <td>0</td>\n",
              "      <td>0</td>\n",
              "      <td>0</td>\n",
              "      <td>0</td>\n",
              "      <td>0</td>\n",
              "      <td>0</td>\n",
              "      <td>0</td>\n",
              "      <td>...</td>\n",
              "      <td>0</td>\n",
              "      <td>0</td>\n",
              "      <td>0</td>\n",
              "      <td>0</td>\n",
              "      <td>0</td>\n",
              "      <td>0</td>\n",
              "      <td>0</td>\n",
              "      <td>0</td>\n",
              "      <td>0</td>\n",
              "      <td>0</td>\n",
              "    </tr>\n",
              "  </tbody>\n",
              "</table>\n",
              "<p>5 rows × 785 columns</p>\n",
              "</div>\n",
              "      <button class=\"colab-df-convert\" onclick=\"convertToInteractive('df-15b96031-4ace-4d92-9362-1cd79a281b91')\"\n",
              "              title=\"Convert this dataframe to an interactive table.\"\n",
              "              style=\"display:none;\">\n",
              "        \n",
              "  <svg xmlns=\"http://www.w3.org/2000/svg\" height=\"24px\"viewBox=\"0 0 24 24\"\n",
              "       width=\"24px\">\n",
              "    <path d=\"M0 0h24v24H0V0z\" fill=\"none\"/>\n",
              "    <path d=\"M18.56 5.44l.94 2.06.94-2.06 2.06-.94-2.06-.94-.94-2.06-.94 2.06-2.06.94zm-11 1L8.5 8.5l.94-2.06 2.06-.94-2.06-.94L8.5 2.5l-.94 2.06-2.06.94zm10 10l.94 2.06.94-2.06 2.06-.94-2.06-.94-.94-2.06-.94 2.06-2.06.94z\"/><path d=\"M17.41 7.96l-1.37-1.37c-.4-.4-.92-.59-1.43-.59-.52 0-1.04.2-1.43.59L10.3 9.45l-7.72 7.72c-.78.78-.78 2.05 0 2.83L4 21.41c.39.39.9.59 1.41.59.51 0 1.02-.2 1.41-.59l7.78-7.78 2.81-2.81c.8-.78.8-2.07 0-2.86zM5.41 20L4 18.59l7.72-7.72 1.47 1.35L5.41 20z\"/>\n",
              "  </svg>\n",
              "      </button>\n",
              "      \n",
              "  <style>\n",
              "    .colab-df-container {\n",
              "      display:flex;\n",
              "      flex-wrap:wrap;\n",
              "      gap: 12px;\n",
              "    }\n",
              "\n",
              "    .colab-df-convert {\n",
              "      background-color: #E8F0FE;\n",
              "      border: none;\n",
              "      border-radius: 50%;\n",
              "      cursor: pointer;\n",
              "      display: none;\n",
              "      fill: #1967D2;\n",
              "      height: 32px;\n",
              "      padding: 0 0 0 0;\n",
              "      width: 32px;\n",
              "    }\n",
              "\n",
              "    .colab-df-convert:hover {\n",
              "      background-color: #E2EBFA;\n",
              "      box-shadow: 0px 1px 2px rgba(60, 64, 67, 0.3), 0px 1px 3px 1px rgba(60, 64, 67, 0.15);\n",
              "      fill: #174EA6;\n",
              "    }\n",
              "\n",
              "    [theme=dark] .colab-df-convert {\n",
              "      background-color: #3B4455;\n",
              "      fill: #D2E3FC;\n",
              "    }\n",
              "\n",
              "    [theme=dark] .colab-df-convert:hover {\n",
              "      background-color: #434B5C;\n",
              "      box-shadow: 0px 1px 3px 1px rgba(0, 0, 0, 0.15);\n",
              "      filter: drop-shadow(0px 1px 2px rgba(0, 0, 0, 0.3));\n",
              "      fill: #FFFFFF;\n",
              "    }\n",
              "  </style>\n",
              "\n",
              "      <script>\n",
              "        const buttonEl =\n",
              "          document.querySelector('#df-15b96031-4ace-4d92-9362-1cd79a281b91 button.colab-df-convert');\n",
              "        buttonEl.style.display =\n",
              "          google.colab.kernel.accessAllowed ? 'block' : 'none';\n",
              "\n",
              "        async function convertToInteractive(key) {\n",
              "          const element = document.querySelector('#df-15b96031-4ace-4d92-9362-1cd79a281b91');\n",
              "          const dataTable =\n",
              "            await google.colab.kernel.invokeFunction('convertToInteractive',\n",
              "                                                     [key], {});\n",
              "          if (!dataTable) return;\n",
              "\n",
              "          const docLinkHtml = 'Like what you see? Visit the ' +\n",
              "            '<a target=\"_blank\" href=https://colab.research.google.com/notebooks/data_table.ipynb>data table notebook</a>'\n",
              "            + ' to learn more about interactive tables.';\n",
              "          element.innerHTML = '';\n",
              "          dataTable['output_type'] = 'display_data';\n",
              "          await google.colab.output.renderOutput(dataTable, element);\n",
              "          const docLink = document.createElement('div');\n",
              "          docLink.innerHTML = docLinkHtml;\n",
              "          element.appendChild(docLink);\n",
              "        }\n",
              "      </script>\n",
              "    </div>\n",
              "  </div>\n",
              "  "
            ]
          },
          "metadata": {},
          "execution_count": 42
        }
      ]
    },
    {
      "cell_type": "code",
      "source": [
        "df.info()"
      ],
      "metadata": {
        "colab": {
          "base_uri": "https://localhost:8080/"
        },
        "id": "qZR1b-wXC4zy",
        "outputId": "ba12217d-ec48-45f9-b5f0-5583185ca290"
      },
      "execution_count": null,
      "outputs": [
        {
          "output_type": "stream",
          "name": "stdout",
          "text": [
            "<class 'pandas.core.frame.DataFrame'>\n",
            "RangeIndex: 60000 entries, 0 to 59999\n",
            "Columns: 785 entries, 0 to 784\n",
            "dtypes: int64(785)\n",
            "memory usage: 359.3 MB\n"
          ]
        }
      ]
    },
    {
      "cell_type": "code",
      "source": [
        "# import matplotlib to show Images\n",
        "import matplotlib.pyplot as plt"
      ],
      "metadata": {
        "id": "owD5OmEVDN3n"
      },
      "execution_count": null,
      "outputs": []
    },
    {
      "cell_type": "code",
      "source": [
        "# get data from dataframe\n",
        "row = 0\n",
        "data = df.iloc[row]"
      ],
      "metadata": {
        "id": "-3gZpkG1Ij3N"
      },
      "execution_count": null,
      "outputs": []
    },
    {
      "cell_type": "code",
      "source": [
        "# label is the first value\n",
        "label = data[0]"
      ],
      "metadata": {
        "id": "DMz-0Zk1Is7p"
      },
      "execution_count": null,
      "outputs": []
    },
    {
      "cell_type": "code",
      "source": [
        "# image data is the remaining 784 values\n",
        "img = data[1:].values.reshape(28,28)\n",
        "plt.title(\"label = \"+ str(label))\n",
        "plt.imshow(img,interpolation='none', cmap='Blues')\n",
        "plt.show()"
      ],
      "metadata": {
        "colab": {
          "base_uri": "https://localhost:8080/",
          "height": 281
        },
        "id": "geLAYI2kKW6R",
        "outputId": "1105d562-7895-4846-ae79-c06e66b44c3b"
      },
      "execution_count": null,
      "outputs": [
        {
          "output_type": "display_data",
          "data": {
            "text/plain": [
              "<Figure size 432x288 with 1 Axes>"
            ],
            "image/png": "[encoded data removed]"
          },
          "metadata": {
            "needs_background": "light"
          }
        }
      ]
    },
    {
      "cell_type": "code",
      "source": [
        "# import libraries\n",
        "import torch.nn as nn"
      ],
      "metadata": {
        "id": "XSBSL9auOEoI"
      },
      "execution_count": null,
      "outputs": []
    },
    {
      "cell_type": "code",
      "source": [
        "# build neural network class called classifier\n",
        "class Classifier(nn.Module):\n",
        "  def __init__(self):\n",
        "    # initialise parent pytorch class\n",
        "    super().__init__()\n",
        "\n",
        "    # define neural network layers\n",
        "    self.model = nn.Sequential(\n",
        "        nn.Linear(784,200),\n",
        "        nn.LeakyReLU(0.02),\n",
        "        nn.LayerNorm(200),\n",
        "        nn.Linear(200,10),\n",
        "        nn.Sigmoid()\n",
        "    )\n",
        "\n",
        "    # create loss function\n",
        "    self.loss_function = nn.BCELoss()\n",
        "\n",
        "    # create optimiser, using simple stochastic gradient descent\n",
        "    self.optimiser = torch.optim.Adam(self.parameters(), lr=0.01)\n",
        "\n",
        "    # counter and accumlator for progress\n",
        "    self.counter = 0\n",
        "    self.progress = []\n",
        "    pass\n",
        "  \n",
        "  def forward(self,inputs):\n",
        "    # simply run model\n",
        "    return self.model(inputs)\n",
        "\n",
        "  def train(self,inputs,targets):\n",
        "    # calculate the output of the network\n",
        "    outputs = self.forward(inputs)\n",
        "\n",
        "    # calculate loss\n",
        "    loss = self.loss_function(outputs,targets)\n",
        "\n",
        "     # increase counter and accumulate error every 10 training examples\n",
        "    self.counter += 1\n",
        "    if (self.counter % 10 == 0):\n",
        "      self.progress.append(loss.item())\n",
        "      pass\n",
        "    if (self.counter % 10000 == 0):\n",
        "      print(\"counter = \", self.counter)\n",
        "      pass\n",
        "    # zero gradients, performs a backward pass and update the weights\n",
        "    self.optimiser.zero_grad() # All the gradients in the computation graph is set to zero\n",
        "    loss.backward() # Gradients are calculated as backward propagation is carried out\n",
        "    self.optimiser.step() # Gradients are then used to update the parameters  \n",
        "    \n",
        "    # plot progress of loss in the form of a chart\n",
        "  def plot_progress(self):\n",
        "    df = pandas.DataFrame(self.progress, columns=['loss'])\n",
        "    df.plot(ylim=(0,1.0),figsize=(16,8),alpha=0.1,marker='.',grid=True,yticks=(0,0.25,0.5))\n",
        "    pass"
      ],
      "metadata": {
        "id": "jB3tkQ2YOKVK"
      },
      "execution_count": null,
      "outputs": []
    },
    {
      "cell_type": "code",
      "source": [
        "# create dataset class using pytorch libraries\n",
        "from torch.utils.data import Dataset\n",
        "\n",
        "class MnistDataset(Dataset):\n",
        "  def __init__(self,csv_file):\n",
        "    self.data_df = pandas.read_csv(csv_file,header=None)\n",
        "    pass\n",
        "\n",
        "  def __len__(self):\n",
        "    return len(self.data_df)\n",
        "\n",
        "  def plot_image(self,index):\n",
        "    arr = self.data_df.iloc[index,1:].values.reshape(28,28)\n",
        "    plt.title(\"label = \" + str(self.data_df.iloc[index,0]))\n",
        "    plt.imshow(arr, interpolation='none', cmap='Blues')\n",
        "    pass  \n",
        "\n",
        "  def __getitem__(self,index):\n",
        "    # image target (label)\n",
        "    label = self.data_df.iloc[index,0] # [row number,column number]\n",
        "    target = torch.zeros((10))\n",
        "    target[label] = 1.0\n",
        "\n",
        "    # image data, normalised from 0-255 to 0-1\n",
        "    image_values = torch.FloatTensor(self.data_df.iloc[index,1:].values) / 255.0\n",
        "\n",
        "    # return label, image data tensor and target tensor\n",
        "    return label, image_values, target\n",
        "  pass"
      ],
      "metadata": {
        "id": "2AflDmzFUrlh"
      },
      "execution_count": null,
      "outputs": []
    },
    {
      "cell_type": "code",
      "source": [
        "# Checking if all works well\n",
        "mnist_dataset = MnistDataset('mount/My Drive/mnist_data/mnist_train.csv')\n",
        "mnist_dataset.plot_image(9)"
      ],
      "metadata": {
        "colab": {
          "base_uri": "https://localhost:8080/",
          "height": 281
        },
        "id": "4KFTvN6xknCC",
        "outputId": "544debdc-16f4-4b8a-a8c4-cfabd356158b"
      },
      "execution_count": null,
      "outputs": [
        {
          "output_type": "display_data",
          "data": {
            "text/plain": [
              "<Figure size 432x288 with 1 Axes>"
            ],
            "image/png": "[encoded data removed]"
          },
          "metadata": {
            "needs_background": "light"
          }
        }
      ]
    },
    {
      "cell_type": "markdown",
      "source": [
        "**Training our Classifier**"
      ],
      "metadata": {
        "id": "y7vLikjylSgK"
      }
    },
    {
      "cell_type": "code",
      "source": [
        "%%time\n",
        "# create neural network\n",
        "C = Classifier()\n",
        "\n",
        "# train network on MNIST dataset\n",
        "epochs = 3\n",
        "\n",
        "for i in range(epochs):\n",
        "  print('training epoch', i+1, 'of', epochs)\n",
        "  for label, image_data_tensor, target_tensor in mnist_dataset:\n",
        "    C.train(image_data_tensor, target_tensor)\n",
        "    pass\n",
        "  pass  "
      ],
      "metadata": {
        "colab": {
          "base_uri": "https://localhost:8080/"
        },
        "id": "ZTDg1DsYlQ_C",
        "outputId": "d2cda008-6fb2-4720-894e-e19cbad73af6"
      },
      "execution_count": null,
      "outputs": [
        {
          "output_type": "stream",
          "name": "stdout",
          "text": [
            "training epoch 1 of 3\n",
            "counter =  10000\n",
            "counter =  20000\n",
            "counter =  30000\n",
            "counter =  40000\n",
            "counter =  50000\n",
            "counter =  60000\n",
            "training epoch 2 of 3\n",
            "counter =  70000\n",
            "counter =  80000\n",
            "counter =  90000\n",
            "counter =  100000\n",
            "counter =  110000\n",
            "counter =  120000\n",
            "training epoch 3 of 3\n",
            "counter =  130000\n",
            "counter =  140000\n",
            "counter =  150000\n",
            "counter =  160000\n",
            "counter =  170000\n",
            "counter =  180000\n",
            "CPU times: user 9min 10s, sys: 4.6 s, total: 9min 15s\n",
            "Wall time: 9min 14s\n"
          ]
        }
      ]
    },
    {
      "cell_type": "code",
      "source": [
        "# plot classifier error\n",
        "C.plot_progress()"
      ],
      "metadata": {
        "colab": {
          "base_uri": "https://localhost:8080/",
          "height": 483
        },
        "id": "DLAI9GYWoSvO",
        "outputId": "4ec6c3ed-ad1a-497c-b05b-07a99455207f"
      },
      "execution_count": null,
      "outputs": [
        {
          "output_type": "display_data",
          "data": {
            "text/plain": [
              "<Figure size 1152x576 with 1 Axes>"
            ],
            "image/png": "[encoded data removed]"
          },
          "metadata": {
            "needs_background": "light"
          }
        }
      ]
    },
    {
      "cell_type": "markdown",
      "source": [
        "**Querying our Neural Network**"
      ],
      "metadata": {
        "id": "W1_lo79QqRpK"
      }
    },
    {
      "cell_type": "code",
      "source": [
        "# load MNIST test data\n",
        "mnist_test_dataset = MnistDataset('mount/My Drive/mnist_data/mnist_test.csv')\n",
        "\n",
        "# pick a record\n",
        "record = 19\n",
        "\n",
        "# plot image and correct label\n",
        "mnist_test_dataset.plot_image(record)"
      ],
      "metadata": {
        "colab": {
          "base_uri": "https://localhost:8080/",
          "height": 281
        },
        "id": "_5GGJOXBqLFD",
        "outputId": "8c9951ca-24a1-4e3d-b6fc-277c962141f8"
      },
      "execution_count": null,
      "outputs": [
        {
          "output_type": "display_data",
          "data": {
            "text/plain": [
              "<Figure size 432x288 with 1 Axes>"
            ],
            "image/png": "[encoded data removed]"
          },
          "metadata": {
            "needs_background": "light"
          }
        }
      ]
    },
    {
      "cell_type": "code",
      "source": [
        "image_data = mnist_test_dataset[record][1]\n",
        "\n",
        "# query from trained network\n",
        "output = C.forward(image_data)\n",
        "output_cpu = output.cpu()\n",
        "\n",
        "# plot output tensor\n",
        "pandas.DataFrame(output_cpu.detach().numpy()).plot(kind='bar',legend=False,ylim=(0,1))"
      ],
      "metadata": {
        "colab": {
          "base_uri": "https://localhost:8080/",
          "height": 284
        },
        "id": "tF3vTJGZrH1x",
        "outputId": "352d0b73-40ab-44ce-8ca0-ed43822e30d3"
      },
      "execution_count": null,
      "outputs": [
        {
          "output_type": "execute_result",
          "data": {
            "text/plain": [
              "<matplotlib.axes._subplots.AxesSubplot at 0x7f3b3eb8be90>"
            ]
          },
          "metadata": {},
          "execution_count": 55
        },
        {
          "output_type": "display_data",
          "data": {
            "text/plain": [
              "<Figure size 432x288 with 1 Axes>"
            ],
            "image/png": "[encoded data removed]"
          },
          "metadata": {
            "needs_background": "light"
          }
        }
      ]
    },
    {
      "cell_type": "code",
      "source": [
        "# test trained neural network on training data\n",
        "\n",
        "score = 0 # Number of times my network got it right\n",
        "items = 0 # Number of test examples\n",
        "\n",
        "for label, image_data_tensor, target_tensor in mnist_test_dataset:\n",
        "  answer = C.forward(image_data_tensor)\n",
        "  answer_cpu = answer.cpu().detach().numpy()\n",
        "  if (answer_cpu.argmax() == label):\n",
        "    score += 1\n",
        "    pass\n",
        "  items += 1\n",
        "  pass\n",
        "\n",
        "print(score, items, score/items)"
      ],
      "metadata": {
        "colab": {
          "base_uri": "https://localhost:8080/"
        },
        "id": "GIkBNVkktx07",
        "outputId": "14512a05-def6-4111-d2e9-bc4e0f1b37d8"
      },
      "execution_count": null,
      "outputs": [
        {
          "output_type": "stream",
          "name": "stdout",
          "text": [
            "9568 10000 0.9568\n"
          ]
        }
      ]
    },
    {
      "cell_type": "markdown",
      "source": [
        "**CHAPTER 3 - CUDA Basics**"
      ],
      "metadata": {
        "id": "ZcTlZclA1gRE"
      }
    },
    {
      "cell_type": "code",
      "source": [
        "# Create tensor on the GPU\n",
        "x = torch.cuda.FloatTensor([3.5])"
      ],
      "metadata": {
        "id": "9t1-QceS1ls0"
      },
      "execution_count": null,
      "outputs": []
    },
    {
      "cell_type": "code",
      "source": [
        "# Check if CUDA is available at the beginning of a python notebook\n",
        "if torch.cuda.is_available():\n",
        "  torch.set_default_tensor_type(torch.cuda.FloatTensor)\n",
        "  print(\"using cuda:\", torch.cuda.get_device_name(0))\n",
        "  pass\n",
        "\n",
        "device = torch.device(\"cuda\" if torch.cuda.is_available() else \"cpu\")\n",
        "\n",
        "device"
      ],
      "metadata": {
        "colab": {
          "base_uri": "https://localhost:8080/"
        },
        "id": "yxd4gavK3Afy",
        "outputId": "1218c6ef-deb4-4b00-fb3e-0abc54a4693d"
      },
      "execution_count": null,
      "outputs": [
        {
          "output_type": "stream",
          "name": "stdout",
          "text": [
            "using cuda: Tesla T4\n"
          ]
        },
        {
          "output_type": "execute_result",
          "data": {
            "text/plain": [
              "device(type='cuda')"
            ]
          },
          "metadata": {},
          "execution_count": 58
        }
      ]
    },
    {
      "cell_type": "markdown",
      "source": [
        "**CHAPTER 4 - The GAN Idea**"
      ],
      "metadata": {
        "id": "qm7rQgy-3-y4"
      }
    },
    {
      "cell_type": "code",
      "source": [
        "import torch\n",
        "import torch.nn as nn\n",
        "import pandas\n",
        "import matplotlib.pyplot as plt"
      ],
      "metadata": {
        "id": "s0iHqNE84DzZ"
      },
      "execution_count": null,
      "outputs": []
    },
    {
      "cell_type": "code",
      "source": [
        "import random"
      ],
      "metadata": {
        "id": "WOjd2Xur52pv"
      },
      "execution_count": null,
      "outputs": []
    },
    {
      "cell_type": "code",
      "source": [
        "def generate_real():\n",
        "  real_data = torch.cuda.FloatTensor([random.uniform(0.8,1.0),random.uniform(0.0,0.2),random.uniform(0.8,1.0),random.uniform(0.0,0.2)])\n",
        "  return real_data"
      ],
      "metadata": {
        "id": "bzjNSBnu5ULG"
      },
      "execution_count": null,
      "outputs": []
    },
    {
      "cell_type": "code",
      "source": [
        "generate_real()"
      ],
      "metadata": {
        "colab": {
          "base_uri": "https://localhost:8080/"
        },
        "id": "UroAgGtA57C7",
        "outputId": "961b9bfe-7b2c-4d74-dbab-ce4246f4af42"
      },
      "execution_count": null,
      "outputs": [
        {
          "output_type": "execute_result",
          "data": {
            "text/plain": [
              "tensor([0.9047, 0.1696, 0.9334, 0.0781])"
            ]
          },
          "metadata": {},
          "execution_count": 62
        }
      ]
    },
    {
      "cell_type": "code",
      "source": [
        "## Building Discriminator Class\n",
        "# discriminator class\n",
        "\n",
        "class Discriminator(nn.Module): \n",
        "    def __init__(self):\n",
        "        # initialise parent pytorch class\n",
        "        super().__init__()\n",
        "        \n",
        "        # define neural network layers\n",
        "        self.model = nn.Sequential(\n",
        "            nn.Linear(4, 3),\n",
        "            nn.Sigmoid(),\n",
        "            nn.Linear(3, 1),\n",
        "            nn.Sigmoid()\n",
        "        )\n",
        "        \n",
        "        # create loss function\n",
        "        self.loss_function = nn.MSELoss()\n",
        "\n",
        "        # create optimiser, simple stochastic gradient descent\n",
        "        self.optimiser = torch.optim.SGD(self.parameters(), lr=0.01)\n",
        "\n",
        "        # counter and accumulator for progress\n",
        "        self.counter = 0;\n",
        "        self.progress = []\n",
        "\n",
        "        pass\n",
        "    \n",
        "    \n",
        "    def forward(self, inputs):\n",
        "        # simply run model\n",
        "        return self.model(inputs)\n",
        "    \n",
        "    \n",
        "    def train(self, inputs, targets):\n",
        "        # calculate the output of the network\n",
        "        outputs = self.forward(inputs)\n",
        "        \n",
        "        # calculate loss\n",
        "        loss = self.loss_function(outputs, targets)\n",
        "\n",
        "        # increase counter and accumulate error every 10\n",
        "        self.counter += 1;\n",
        "        if (self.counter % 10 == 0):\n",
        "            self.progress.append(loss.item())\n",
        "            pass\n",
        "        if (self.counter % 10000 == 0):\n",
        "            print(\"counter = \", self.counter)\n",
        "            pass\n",
        "\n",
        "        # zero gradients, perform a backward pass, update weights\n",
        "        self.optimiser.zero_grad()\n",
        "        loss.backward()\n",
        "        self.optimiser.step()\n",
        "\n",
        "        pass\n",
        "    \n",
        "    \n",
        "    def plot_progress(self):\n",
        "        df = pandas.DataFrame(self.progress, columns=['loss'])\n",
        "        df.plot(ylim=(0, 1.0), figsize=(16,8), alpha=0.1, marker='.', grid=True, yticks=(0, 0.25, 0.5))\n",
        "        pass\n",
        "    \n",
        "    pass"
      ],
      "metadata": {
        "id": "Zx7VkRkZ6VZw"
      },
      "execution_count": null,
      "outputs": []
    },
    {
      "cell_type": "code",
      "source": [
        "# Testing the Discriminator\n",
        "\n",
        "def generate_random(size):\n",
        "  random_data = torch.rand(size)\n",
        "  return random_data"
      ],
      "metadata": {
        "id": "h0sWpESJ_TMC"
      },
      "execution_count": null,
      "outputs": []
    },
    {
      "cell_type": "code",
      "source": [
        "generate_random(4)"
      ],
      "metadata": {
        "colab": {
          "base_uri": "https://localhost:8080/"
        },
        "id": "iLc9Hpu_AH31",
        "outputId": "542cd48c-6966-4cca-f294-c936b85f6953"
      },
      "execution_count": null,
      "outputs": [
        {
          "output_type": "execute_result",
          "data": {
            "text/plain": [
              "tensor([0.1211, 0.2435, 0.5499, 0.1442])"
            ]
          },
          "metadata": {},
          "execution_count": 65
        }
      ]
    },
    {
      "cell_type": "code",
      "source": [
        "# plot discriminator loss\n",
        "D = Discriminator()\n",
        "\n",
        "for i in range(10000):\n",
        "    # real data\n",
        "    D.train(generate_real(), torch.cuda.FloatTensor([1.0]))\n",
        "    # fake data\n",
        "    D.train(generate_random(4), torch.cuda.FloatTensor([0.0]))\n",
        "    pass\n",
        "\n",
        "D.plot_progress()"
      ],
      "metadata": {
        "colab": {
          "base_uri": "https://localhost:8080/",
          "height": 519
        },
        "id": "E7QNLq4mB9OA",
        "outputId": "089ed160-12f1-4e01-80e1-c3f7a0dcbd96"
      },
      "execution_count": null,
      "outputs": [
        {
          "output_type": "stream",
          "name": "stdout",
          "text": [
            "counter =  10000\n",
            "counter =  20000\n"
          ]
        },
        {
          "output_type": "display_data",
          "data": {
            "text/plain": [
              "<Figure size 1152x576 with 1 Axes>"
            ],
            "image/png": "[encoded data removed]"
          },
          "metadata": {
            "needs_background": "light"
          }
        }
      ]
    },
    {
      "cell_type": "code",
      "source": [
        "# manually run discriminator to check it can tell real data from fake\n",
        "print( D.forward( generate_real() ).item() )\n",
        "print( D.forward( generate_random(4) ).item() )"
      ],
      "metadata": {
        "colab": {
          "base_uri": "https://localhost:8080/"
        },
        "id": "SwapM6IbCsVt",
        "outputId": "c12a943f-dd43-477d-f1ba-402024e71ffb"
      },
      "execution_count": null,
      "outputs": [
        {
          "output_type": "stream",
          "name": "stdout",
          "text": [
            "0.7332083582878113\n",
            "0.25102725625038147\n"
          ]
        }
      ]
    },
    {
      "cell_type": "code",
      "source": [
        "# generator class\n",
        "\n",
        "class Generator(nn.Module):\n",
        "    \n",
        "    def __init__(self):\n",
        "        # initialise parent pytorch class\n",
        "        super().__init__()\n",
        "        \n",
        "        # define neural network layers\n",
        "        self.model = nn.Sequential(\n",
        "            nn.Linear(1, 3),\n",
        "            nn.Sigmoid(),\n",
        "            nn.Linear(3, 4),\n",
        "            nn.Sigmoid()\n",
        "        )\n",
        "\n",
        "        # create optimiser, simple stochastic gradient descent\n",
        "        self.optimiser = torch.optim.SGD(self.parameters(), lr=0.01)\n",
        "\n",
        "        # counter and accumulator for progress\n",
        "        self.counter = 0;\n",
        "        self.progress = []\n",
        "        \n",
        "        pass\n",
        "    \n",
        "    \n",
        "    def forward(self, inputs):        \n",
        "        # simply run model\n",
        "        return self.model(inputs)\n",
        "    \n",
        "    \n",
        "    def train(self, D, inputs, targets):\n",
        "        # calculate the output of the network\n",
        "        g_output = self.forward(inputs)\n",
        "        \n",
        "        # pass onto Discriminator\n",
        "        d_output = D.forward(g_output)\n",
        "        \n",
        "        # calculate error\n",
        "        loss = D.loss_function(d_output, targets)\n",
        "\n",
        "        # increase counter and accumulate error every 10\n",
        "        self.counter += 1;\n",
        "        if (self.counter % 10 == 0):\n",
        "            self.progress.append(loss.item())\n",
        "            pass\n",
        "\n",
        "        # zero gradients, perform a backward pass, update weights\n",
        "        self.optimiser.zero_grad()\n",
        "        loss.backward()\n",
        "        self.optimiser.step()\n",
        "\n",
        "        pass\n",
        "    \n",
        "    \n",
        "    def plot_progress(self):\n",
        "        df = pandas.DataFrame(self.progress, columns=['loss'])\n",
        "        df.plot(ylim=(0, 1.0), figsize=(16,8), alpha=0.1, marker='.', grid=True, yticks=(0, 0.25, 0.5))\n",
        "        pass\n",
        "    \n",
        "    pass"
      ],
      "metadata": {
        "id": "jiTS5EvZEOV4"
      },
      "execution_count": null,
      "outputs": []
    },
    {
      "cell_type": "code",
      "source": [
        "# check the generator output is of the right type and shape\n",
        "\n",
        "G = Generator()\n",
        "\n",
        "G.forward(torch.cuda.FloatTensor([0.5]))"
      ],
      "metadata": {
        "colab": {
          "base_uri": "https://localhost:8080/"
        },
        "id": "BZIsCx-iG-5B",
        "outputId": "c6e1bbac-9085-47cc-9017-7788a9680309"
      },
      "execution_count": null,
      "outputs": [
        {
          "output_type": "execute_result",
          "data": {
            "text/plain": [
              "tensor([0.3696, 0.5134, 0.4761, 0.4515], grad_fn=<SigmoidBackward0>)"
            ]
          },
          "metadata": {},
          "execution_count": 69
        }
      ]
    },
    {
      "cell_type": "code",
      "source": [
        "%%time \n",
        "\n",
        "# create Discriminator and Generator\n",
        "\n",
        "D = Discriminator()\n",
        "G = Generator()\n",
        "\n",
        "image_list = []\n",
        "\n",
        "# train Discriminator and Generator\n",
        "\n",
        "for i in range(10000):\n",
        "    \n",
        "    # train discriminator on true\n",
        "    D.train(generate_real(), torch.cuda.FloatTensor([1.0]))\n",
        "    \n",
        "    # train discriminator on false\n",
        "    # use detach() so gradients in G are not calculated\n",
        "    G_output = G.forward(torch.cuda.FloatTensor([0.5]).detach())\n",
        "    D.train(G_output, torch.cuda.FloatTensor([0.0]))\n",
        "    \n",
        "    # train generator\n",
        "    G.train(D, torch.cuda.FloatTensor([0.5]), torch.cuda.FloatTensor([1.0]))\n",
        "    \n",
        "    # add image to list every 1000\n",
        "    if (i % 1000 == 0):\n",
        "      G_input = G.forward(torch.cuda.FloatTensor([0.5]))\n",
        "      G_input_cpu = G_input.cpu()\n",
        "      image_list.append( G_input_cpu.detach().numpy() )\n",
        "\n",
        "    pass"
      ],
      "metadata": {
        "colab": {
          "base_uri": "https://localhost:8080/"
        },
        "id": "nPhjD0xKHjcp",
        "outputId": "d74dce62-bc35-4fc3-b4cd-6f4dc62d60a2"
      },
      "execution_count": null,
      "outputs": [
        {
          "output_type": "stream",
          "name": "stdout",
          "text": [
            "counter =  10000\n",
            "counter =  20000\n",
            "CPU times: user 30.3 s, sys: 1.03 s, total: 31.3 s\n",
            "Wall time: 30.9 s\n"
          ]
        }
      ]
    },
    {
      "cell_type": "code",
      "source": [
        "# plot discriminator error\n",
        "\n",
        "D.plot_progress()"
      ],
      "metadata": {
        "colab": {
          "base_uri": "https://localhost:8080/",
          "height": 483
        },
        "id": "e07ilXZ_JIGh",
        "outputId": "fd9050fc-c4ff-4356-c90f-6d25e1db5836"
      },
      "execution_count": null,
      "outputs": [
        {
          "output_type": "display_data",
          "data": {
            "text/plain": [
              "<Figure size 1152x576 with 1 Axes>"
            ],
            "image/png": "[encoded data removed]"
          },
          "metadata": {
            "needs_background": "light"
          }
        }
      ]
    },
    {
      "cell_type": "code",
      "source": [
        "# plot generator error\n",
        "\n",
        "G.plot_progress()"
      ],
      "metadata": {
        "colab": {
          "base_uri": "https://localhost:8080/",
          "height": 483
        },
        "id": "ObNJKG4C82_W",
        "outputId": "c6232873-51d1-4858-aa43-a34a3784aa7b"
      },
      "execution_count": null,
      "outputs": [
        {
          "output_type": "display_data",
          "data": {
            "text/plain": [
              "<Figure size 1152x576 with 1 Axes>"
            ],
            "image/png": "[encoded data removed]"
          },
          "metadata": {
            "needs_background": "light"
          }
        }
      ]
    },
    {
      "cell_type": "code",
      "source": [
        "# manually run generator to see it's outputs\n",
        "\n",
        "G.forward(torch.cuda.FloatTensor([0.5]))"
      ],
      "metadata": {
        "colab": {
          "base_uri": "https://localhost:8080/"
        },
        "id": "N4y4pleV866J",
        "outputId": "3b1ea635-9ba3-41ed-a1ab-f506ff0a7280"
      },
      "execution_count": null,
      "outputs": [
        {
          "output_type": "execute_result",
          "data": {
            "text/plain": [
              "tensor([0.8798, 0.0844, 0.8778, 0.1233], grad_fn=<SigmoidBackward0>)"
            ]
          },
          "metadata": {},
          "execution_count": 93
        }
      ]
    },
    {
      "cell_type": "code",
      "source": [
        "import numpy"
      ],
      "metadata": {
        "id": "aoHLZVCyv_ww"
      },
      "execution_count": null,
      "outputs": []
    },
    {
      "cell_type": "code",
      "source": [
        "# plot images collected during training\n",
        "\n",
        "plt.figure(figsize = (16,8))\n",
        "\n",
        "plt.imshow(numpy.array(image_list).T, interpolation='none', cmap='Blues')"
      ],
      "metadata": {
        "colab": {
          "base_uri": "https://localhost:8080/",
          "height": 427
        },
        "id": "8daaYaIQ87bd",
        "outputId": "f63913b8-3f36-428d-a4b3-30e51a4ca7e5"
      },
      "execution_count": null,
      "outputs": [
        {
          "output_type": "execute_result",
          "data": {
            "text/plain": [
              "<matplotlib.image.AxesImage at 0x7f3b3d4a9050>"
            ]
          },
          "metadata": {},
          "execution_count": 96
        },
        {
          "output_type": "display_data",
          "data": {
            "text/plain": [
              "<Figure size 1152x576 with 1 Axes>"
            ],
            "image/png": "[encoded data removed]"
          },
          "metadata": {
            "needs_background": "light"
          }
        }
      ]
    }
  ]
}